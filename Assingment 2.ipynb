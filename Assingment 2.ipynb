{
 "cells": [
  {
   "cell_type": "markdown",
   "id": "7d2ea7b8-28cc-4516-a248-68eacd4dade7",
   "metadata": {},
   "source": [
    "QUESTION 1> What are data structures, and why are they important?\n",
    "ANSWER 1> Data Sructure are ways of organizing and storing data in a computer so that it can be used efficiently.They help in managing and processing            data in  structure and logical manner.\n",
    "          They are important because-\n",
    "          1.Efficient data management.\n",
    "          2.Better Performance.\n",
    "          3.Solving complex problem."
   ]
  },
  {
   "cell_type": "markdown",
   "id": "e219f557-f498-4910-9fd9-7e1f3d012bfc",
   "metadata": {},
   "source": [
    "QUESTION 2> Explain the difference between mutable and immutable data types with examples?\n",
    "ANSWER 2>  Mutable can be changed after they created. User can  add, remove, or change items.\n",
    "           Example- List, Dictionary, Set\n",
    "           Immutable cannot be changed after they are created. Any change create new object.\n",
    "           Example- Tuple"
   ]
  },
  {
   "cell_type": "markdown",
   "id": "4c3af662-d801-4955-b052-6e8d9d240b09",
   "metadata": {},
   "source": [
    "QUESTION 3> What are the main differences between lists and tuples in Python?\n",
    "ANSWER 3> The main difference between list and tuple is-\n",
    "          1.The bracket use in list is square bracket whereas in tuple it it round bracket.\n",
    "          2. List are mutable whereas tuple are immutale."
   ]
  },
  {
   "cell_type": "markdown",
   "id": "08b156b2-28d2-4593-91b0-e551b1862d7a",
   "metadata": {},
   "source": [
    "QUESTION 4> Describe how dictionaries store data?\n",
    "ANSWER 4> Dictionary is a data structure that store data as a key-value pair."
   ]
  },
  {
   "cell_type": "markdown",
   "id": "fa09443c-ea03-466c-9274-30a3c0dd4241",
   "metadata": {},
   "source": [
    "QUESTION 5> Why might you use a set instead of a list in Python?\n",
    "ANSWER 5> We might use set instead of list when in data we have repeated items but we want it only one time so we use set."
   ]
  },
  {
   "cell_type": "markdown",
   "id": "d1f14318-1037-49b1-9875-cca20aa797f0",
   "metadata": {},
   "source": [
    "QUESTION 6> What is a string in Python, and how is it different from a list?\n",
    "ANSWER 6> String is a sequence of charcater which helps to represent and manipulate textual data in proramming language.\n",
    "          The difference between string and list is string is immutable where as list is mutable."
   ]
  },
  {
   "cell_type": "markdown",
   "id": "0a2fa0a5-4114-4160-a070-aed78e117543",
   "metadata": {},
   "source": [
    "QUESTION 7> How do tuples ensure data integrity in Python?\n",
    "ANSWER 7> Tuples help to protect data by making sure it cannot be changed once created."
   ]
  },
  {
   "cell_type": "markdown",
   "id": "22653298-f691-476d-bd78-11156f9760de",
   "metadata": {},
   "source": [
    "QUESTION 8> What is a hash table, and how does it relate to dictionaries in Python\n",
    "ANSWER 8> A hash table is a data structure that stores data in key value pairs using a technique called hashing.\n",
    "          In python, the dictionary is a implementation of a hash table."
   ]
  },
  {
   "cell_type": "markdown",
   "id": "1bab65e0-760b-47c1-b562-26e49599e4d4",
   "metadata": {},
   "source": [
    "QUESTION 9>  Can lists contain different data types in Python?\n",
    "ANSWER 9>Yes"
   ]
  },
  {
   "cell_type": "markdown",
   "id": "1574fd64-227c-4770-aa15-907014ca3cc0",
   "metadata": {},
   "source": [
    "QUESTION 10>  Explain why strings are immutable in Python?\n",
    "ANSWER 10> Strings are immutable in python because-\n",
    "           1. If string could change, bugs could occur when multiple variables point to the same string.\n",
    "           2. Immutablity ensures data safety and predictibility."
   ]
  },
  {
   "cell_type": "markdown",
   "id": "299987d0-9c7a-40c6-89f3-18265266cc45",
   "metadata": {},
   "source": [
    "QUESTION 11> What advantages do dictionaries offer over lists for certain tasks?\n",
    "ANSWER 11> Advantage do dictionary offer over list is\n",
    "           1. Key value access.\n",
    "           2. Better organized data.\n",
    "           3. Flexible keys."
   ]
  },
  {
   "cell_type": "markdown",
   "id": "3de446d9-4161-40a2-9e1f-3c9d8ee8d5e4",
   "metadata": {},
   "source": [
    "QUESTION 12> Describe a scenario where using a tuple would be preferable over a list?\n",
    "ANSWER 12> When creating a employ ID or something which has to be fixed then tuple is more preferable than list."
   ]
  },
  {
   "cell_type": "markdown",
   "id": "9206c599-abe2-4701-abd0-c4787a390571",
   "metadata": {},
   "source": [
    "QUESTION 13> How do sets handle duplicate values in Python?\n",
    "ANSWER 13> A set in python automatically removes duplicate values.It onl keeps unique elements no matter how many duplicates you add."
   ]
  },
  {
   "cell_type": "markdown",
   "id": "977eec7d-f847-47b0-b1ed-94351abc9e75",
   "metadata": {},
   "source": [
    "QUESTION 14> How does the “in” keyword work differently for lists and dictionaries?\n",
    "ANSWER 14> In list the \"in\" keyword checks whether a value is present among the elemets of the list where as in dictionary the \"in\" keyword\n",
    "           cheks a key exist in the dictionary not b=value."
   ]
  },
  {
   "cell_type": "markdown",
   "id": "4465f230-cd51-4dbc-b043-92cb80440740",
   "metadata": {},
   "source": [
    "QUESTION 15> Can you modify the elements of a tuple? Explain why or why not?\n",
    "ANSWER 15> No we cannot modify elements in the tuple because once a tuple is created its data get fixed."
   ]
  },
  {
   "cell_type": "markdown",
   "id": "39956893-3027-4297-987b-2d763c32ef7f",
   "metadata": {},
   "source": [
    "QUESTION 16> What is a nested dictionary, and give an example of its use case?\n",
    "ANSWER 16> A nested dictionary is a dictionary inside another another dictionary. It lets you store complex data ina structured and organized way\n",
    "           likea table with rows and coloumn."
   ]
  },
  {
   "cell_type": "markdown",
   "id": "25b16171-38fc-4d7c-8d0e-9d3551b1c7e0",
   "metadata": {},
   "source": [
    "QUESTION 17> Describe the time complexity of accessing elements in a dictionary?\n",
    "ANSWER 17> Accesing an element by key in a dictionary has average case time complexity of 0(1). This meanit take the same amount of time, no matter\n",
    "           how many items are in the dictionary."
   ]
  },
  {
   "cell_type": "markdown",
   "id": "a14cc91c-593a-496c-89e4-b99e5d10f326",
   "metadata": {},
   "source": [
    "QUESTION 18> In what situations are lists preferred over dictionaries?\n",
    "ANSWER 18>  When situation required no key value pair then list is preferred over dictionary."
   ]
  },
  {
   "cell_type": "markdown",
   "id": "4dd1d823-d1bf-4757-9e0f-3c5eac11b656",
   "metadata": {},
   "source": [
    "QUESTION 19 > Why are dictionaries considered unordered, and how does that affect data retrieval?\n",
    "ANSWER 19> Before pyhton 3.7 dictionary considered unordered but after python 3.7 it is considered ordered."
   ]
  },
  {
   "cell_type": "markdown",
   "id": "35c100f9-1a6a-47ad-b925-b8d269073e65",
   "metadata": {},
   "source": [
    "QUESTION 20 >Explain the difference between a list and a dictionary in terms of data retrieval?\n",
    "ANSWER 20> In list data is retrieved by index where as in dictionary data is retrieved by key."
   ]
  },
  {
   "cell_type": "code",
   "execution_count": null,
   "id": "4971b711-cf80-4da3-a77c-5d48b3f92892",
   "metadata": {},
   "outputs": [],
   "source": []
  },
  {
   "cell_type": "code",
   "execution_count": null,
   "id": "151cfbb7-817d-4803-b0be-ec4e93ca1f45",
   "metadata": {},
   "outputs": [],
   "source": []
  },
  {
   "cell_type": "code",
   "execution_count": null,
   "id": "a2efe742-6774-47dd-96ef-73c47c4e1ffc",
   "metadata": {},
   "outputs": [],
   "source": [
    "# PRACTICAL QUESTION"
   ]
  },
  {
   "cell_type": "code",
   "execution_count": null,
   "id": "af04c750-559e-4bff-88a0-6a4efa47c764",
   "metadata": {},
   "outputs": [],
   "source": []
  },
  {
   "cell_type": "code",
   "execution_count": 3,
   "id": "449087c5-f17b-4bf3-b52a-7564e85d8108",
   "metadata": {},
   "outputs": [
    {
     "name": "stdout",
     "output_type": "stream",
     "text": [
      "Abhishek Gupta\n"
     ]
    },
    {
     "data": {
      "text/plain": [
       "str"
      ]
     },
     "execution_count": 3,
     "metadata": {},
     "output_type": "execute_result"
    }
   ],
   "source": [
    "#QUESTION 1> Write a code to create a string with your name and print it?\n",
    "name=\"Abhishek Gupta\"\n",
    "print(name)\n",
    "type(name)"
   ]
  },
  {
   "cell_type": "code",
   "execution_count": 4,
   "id": "dcfb288f-2c07-4202-875e-7d15c10325e0",
   "metadata": {},
   "outputs": [
    {
     "data": {
      "text/plain": [
       "11"
      ]
     },
     "execution_count": 4,
     "metadata": {},
     "output_type": "execute_result"
    }
   ],
   "source": [
    "#QUESTION 2> Write a code to find the length of the string \"Hello World\"?\n",
    "k=\"Hello World\"\n",
    "len(k)"
   ]
  },
  {
   "cell_type": "code",
   "execution_count": 7,
   "id": "18111820-068e-45ca-a23e-afbfc6de7dfc",
   "metadata": {},
   "outputs": [
    {
     "name": "stdout",
     "output_type": "stream",
     "text": [
      "Python Programming\n"
     ]
    },
    {
     "data": {
      "text/plain": [
       "'Pyth'"
      ]
     },
     "execution_count": 7,
     "metadata": {},
     "output_type": "execute_result"
    }
   ],
   "source": [
    "#QUESTION 3> Write a code to slice the first 3 characters from the string \"Python Programming\"?\n",
    "a=\"Python Programming\"\n",
    "print(a)\n",
    "a[0:4]"
   ]
  },
  {
   "cell_type": "code",
   "execution_count": 16,
   "id": "3b1f586a-351b-4581-82d4-51a1601f5f6d",
   "metadata": {},
   "outputs": [
    {
     "name": "stdout",
     "output_type": "stream",
     "text": [
      "hello\n",
      "HELLO\n"
     ]
    }
   ],
   "source": [
    "#QUESTION 4> Write a code to convert the string \"hello\" to uppercase?\n",
    "b=\"hello\"\n",
    "print(b)\n",
    "print(b.upper())"
   ]
  },
  {
   "cell_type": "code",
   "execution_count": 29,
   "id": "c69bfc00-fb3c-404c-b295-55c8a5955574",
   "metadata": {},
   "outputs": [
    {
     "name": "stdout",
     "output_type": "stream",
     "text": [
      "I like apple\n"
     ]
    },
    {
     "data": {
      "text/plain": [
       "'I like orange'"
      ]
     },
     "execution_count": 29,
     "metadata": {},
     "output_type": "execute_result"
    }
   ],
   "source": [
    "#QUESTION 5> Write a code to replace the word \"apple\" with \"orange\" in the string \"I like apple\"?\n",
    "c=\"I like apple\"\n",
    "print(c)\n",
    "c.replace(\"apple\",\"orange\")"
   ]
  },
  {
   "cell_type": "code",
   "execution_count": 40,
   "id": "36579b05-8df2-4d3e-97f5-866368988684",
   "metadata": {},
   "outputs": [
    {
     "name": "stdout",
     "output_type": "stream",
     "text": [
      "[1, 2, 3, 4, 5]\n"
     ]
    }
   ],
   "source": [
    "#QUESTION 6> Write a code to create a list with numbers 1 to 5 and print i?\n",
    "numbers=list(range(1,6))\n",
    "print(numbers)"
   ]
  },
  {
   "cell_type": "code",
   "execution_count": 46,
   "id": "250337a4-82af-4944-bdb0-166adea96292",
   "metadata": {},
   "outputs": [
    {
     "name": "stdout",
     "output_type": "stream",
     "text": [
      "[1, 2, 3, 4, 5]\n",
      "[1, 2, 3, 4, 5, 10]\n"
     ]
    }
   ],
   "source": [
    "#QUESTION 7> Write a code to append the number 10 to the list [1, 2, 3, 4] ?\n",
    "n=[1,2,3,4,5]\n",
    "print(n)\n",
    "n.append(10)\n",
    "print(n)"
   ]
  },
  {
   "cell_type": "code",
   "execution_count": 48,
   "id": "49e8c6c6-9a90-4079-9e0a-6561ff6a5c6a",
   "metadata": {},
   "outputs": [
    {
     "name": "stdout",
     "output_type": "stream",
     "text": [
      "[1, 2, 3, 4, 5]\n",
      "[1, 2, 4, 5]\n"
     ]
    }
   ],
   "source": [
    "#QUESTION 8>  Write a code to remove the number 3 from the list [1, 2, 3, 4, 5] ?\n",
    "t=[1,2,3,4,5]\n",
    "print(t)\n",
    "t.remove(3)\n",
    "print(t)"
   ]
  },
  {
   "cell_type": "code",
   "execution_count": 50,
   "id": "e59dc0c7-c868-47f1-abc2-a9639aaf0c1f",
   "metadata": {},
   "outputs": [
    {
     "name": "stdout",
     "output_type": "stream",
     "text": [
      "['a', 'b', 'c', 'd']\n",
      "c\n"
     ]
    }
   ],
   "source": [
    "#QUESTION 9> Write a code to access the second element in the list ['a', 'b', 'c', 'd'] ?\n",
    "d=[\"a\",\"b\",\"c\",\"d\"]\n",
    "print(d)\n",
    "print(d[2])"
   ]
  },
  {
   "cell_type": "code",
   "execution_count": 52,
   "id": "cf22b4cd-cefd-4e1e-bc22-6c22f969ec74",
   "metadata": {},
   "outputs": [
    {
     "name": "stdout",
     "output_type": "stream",
     "text": [
      "[10, 20, 30, 40, 50]\n",
      "[50, 40, 30, 20, 10]\n"
     ]
    }
   ],
   "source": [
    "#QUESTION 10> Write a code to reverse the list [10, 20, 30, 40, 50] ?\n",
    "num_1=[10,20,30,40,50]\n",
    "print(num_1)\n",
    "num_1.reverse()\n",
    "print(num_1)"
   ]
  },
  {
   "cell_type": "code",
   "execution_count": 54,
   "id": "06dc42fd-0174-4be0-b70e-375059b9e919",
   "metadata": {},
   "outputs": [
    {
     "name": "stdout",
     "output_type": "stream",
     "text": [
      "(100, 200, 300)\n"
     ]
    },
    {
     "data": {
      "text/plain": [
       "tuple"
      ]
     },
     "execution_count": 54,
     "metadata": {},
     "output_type": "execute_result"
    }
   ],
   "source": [
    "#QUESTION 11>  Write a code to create a tuple with the elements 100, 200, 300 and print it?\n",
    "t_1=(100,200,300)\n",
    "print(t_1)\n",
    "type(t_1)"
   ]
  },
  {
   "cell_type": "code",
   "execution_count": 59,
   "id": "33e41704-91da-4342-9b4f-cf5f1c3b5b92",
   "metadata": {},
   "outputs": [
    {
     "name": "stdout",
     "output_type": "stream",
     "text": [
      "('red', 'green', 'blue', 'yellow')\n"
     ]
    },
    {
     "data": {
      "text/plain": [
       "'blue'"
      ]
     },
     "execution_count": 59,
     "metadata": {},
     "output_type": "execute_result"
    }
   ],
   "source": [
    "#QUESTION 12> Write a code to access the second-to-last element of the tuple ('red', 'green', 'blue', 'yellow')?\n",
    "t_2=(\"red\",\"green\",\"blue\",\"yellow\")\n",
    "print(t_2)\n",
    "t_2[-2]"
   ]
  },
  {
   "cell_type": "code",
   "execution_count": 63,
   "id": "bf85d4b9-58e2-48e8-978a-a71cdf51facf",
   "metadata": {},
   "outputs": [
    {
     "name": "stdout",
     "output_type": "stream",
     "text": [
      "(10, 20, 5, 15)\n",
      "5\n"
     ]
    }
   ],
   "source": [
    "#QUESTION 13>  Write a code to find the minimum number in the tuple (10, 20, 5, 15)?\n",
    "t_3=(10,20,5,15)\n",
    "print(t_3)\n",
    "g=min(t_3)\n",
    "print(g)"
   ]
  },
  {
   "cell_type": "code",
   "execution_count": 65,
   "id": "2fa6dfde-2fd2-4329-a03b-d336888f81e7",
   "metadata": {},
   "outputs": [
    {
     "name": "stdout",
     "output_type": "stream",
     "text": [
      "('dog', 'rabbit', 'cat')\n"
     ]
    },
    {
     "data": {
      "text/plain": [
       "2"
      ]
     },
     "execution_count": 65,
     "metadata": {},
     "output_type": "execute_result"
    }
   ],
   "source": [
    "#QUESTION 14> Write a code to find the index of the element \"cat\" in the tuple ('dog', 'cat', 'rabbit')?\n",
    "t_4=(\"dog\",\"rabbit\",\"cat\",)\n",
    "print(t_4)\n",
    "t_4.index(\"cat\")"
   ]
  },
  {
   "cell_type": "code",
   "execution_count": 62,
   "id": "3c1e9626-9a96-434d-88bf-69b91896c7a2",
   "metadata": {},
   "outputs": [
    {
     "name": "stdout",
     "output_type": "stream",
     "text": [
      "kiwi is not in tuple\n"
     ]
    }
   ],
   "source": [
    "#QUESTION 15>  Write a code to create a tuple containing three different fruits and check if \"kiwi\" is in it?\n",
    "t_5=(\"apple\",\"mango\",\"orange\",)\n",
    "if \"kiwi\" in t_5:\n",
    "    print(\"kiwi is in the tuple.\")\n",
    "else:\n",
    "    print(\"kiwi is not in tuple\")"
   ]
  },
  {
   "cell_type": "code",
   "execution_count": 8,
   "id": "37d70556-9c50-4d0d-bcdf-2d4226f97bb6",
   "metadata": {},
   "outputs": [
    {
     "name": "stdout",
     "output_type": "stream",
     "text": [
      "{'c', 'b', 'a'}\n"
     ]
    },
    {
     "data": {
      "text/plain": [
       "set"
      ]
     },
     "execution_count": 8,
     "metadata": {},
     "output_type": "execute_result"
    }
   ],
   "source": [
    "#QUESTION 16>  Write a code to create a set with the elements 'a', 'b', 'c' and print it?\n",
    "k={\"a\",\"b\",\"c\"}\n",
    "print(k)\n",
    "type(k)"
   ]
  },
  {
   "cell_type": "code",
   "execution_count": 15,
   "id": "fd72cad2-8bdc-4a5c-abf7-93de695d1dd0",
   "metadata": {},
   "outputs": [
    {
     "name": "stdout",
     "output_type": "stream",
     "text": [
      "{1, 2, 3, 4, 5}\n",
      "set()\n"
     ]
    }
   ],
   "source": [
    "#QUESTION 17> Write a code to clear all elements from the set {1, 2, 3, 4, 5}?\n",
    "s_1={1,2,3,4,5}\n",
    "print(s_1)\n",
    "s_1.clear()\n",
    "print(s_1)"
   ]
  },
  {
   "cell_type": "code",
   "execution_count": 16,
   "id": "cee3c20b-6176-43b9-89d0-8c443b7f7d9e",
   "metadata": {},
   "outputs": [
    {
     "name": "stdout",
     "output_type": "stream",
     "text": [
      "{1, 2, 3, 4}\n",
      "{1, 2, 3}\n"
     ]
    }
   ],
   "source": [
    "#QUESTION 18> Write a code to remove the element 4 from the set {1, 2, 3, 4}?\n",
    "s_2={1,2,3,4}\n",
    "print(s_2)\n",
    "s_2.remove(4)\n",
    "print(s_2)"
   ]
  },
  {
   "cell_type": "code",
   "execution_count": 19,
   "id": "ae1fe128-f550-41f2-849a-a11744b63d6c",
   "metadata": {},
   "outputs": [
    {
     "name": "stdout",
     "output_type": "stream",
     "text": [
      "{1, 2, 3, 4, 5}\n"
     ]
    }
   ],
   "source": [
    "#QUESTION 19>  Write a code to find the union of two sets {1, 2, 3} and {3, 4, 5}?\n",
    "s_3={1,2,3}\n",
    "s_4={3,4,5}\n",
    "l=s_3|s_4\n",
    "print(l)"
   ]
  },
  {
   "cell_type": "code",
   "execution_count": 20,
   "id": "238dd2e5-cc3f-457b-994f-b4883cad44d5",
   "metadata": {},
   "outputs": [
    {
     "name": "stdout",
     "output_type": "stream",
     "text": [
      "{2, 3}\n"
     ]
    }
   ],
   "source": [
    "#QUESTION 20>  Write a code to find the intersection of two sets {1, 2, 3} and {2, 3, 4}?\n",
    "s_6={1,2,3}\n",
    "s_7={2,3,4}\n",
    "k=s_6&s_7\n",
    "print(k)"
   ]
  },
  {
   "cell_type": "code",
   "execution_count": 46,
   "id": "5f5d887a-9f6b-4f9f-8d1c-9f428fffdb85",
   "metadata": {},
   "outputs": [
    {
     "name": "stdout",
     "output_type": "stream",
     "text": [
      "{'name': 'k', 'age': 24, 'city': 'Prayagraj'}\n"
     ]
    }
   ],
   "source": [
    "#QUESTION 21>  Write a code to create a dictionary with the keys \"name\", \"age\", and \"city\", and print it?\n",
    "d={\"name\":\"k\", \"age\":24,\"city\":\"Prayagraj\"}\n",
    "print(d)"
   ]
  },
  {
   "cell_type": "code",
   "execution_count": 45,
   "id": "2777dec6-76d1-4142-b85d-d9af97ef83b0",
   "metadata": {},
   "outputs": [
    {
     "name": "stdout",
     "output_type": "stream",
     "text": [
      "{'Name': 'John', 'Age': 25}\n",
      "{'Name': 'John', 'Age': 25, 'country': 'USA'}\n"
     ]
    }
   ],
   "source": [
    "#QUESTION 22>  Write a code to add a new key-value pair \"country\": \"USA\" to the dictionary {'name': 'John', 'age': 25}?\n",
    "f={\"Name\":\"John\",\"Age\":25}\n",
    "print(f)\n",
    "f[\"country\"]=\"USA\"\n",
    "print(f)"
   ]
  },
  {
   "cell_type": "code",
   "execution_count": 50,
   "id": "bde41dfb-2a44-4108-9633-9f3f2b4c82c8",
   "metadata": {},
   "outputs": [
    {
     "name": "stdout",
     "output_type": "stream",
     "text": [
      "{'name': 'Alice', 'Age': 30}\n"
     ]
    },
    {
     "data": {
      "text/plain": [
       "'Alice'"
      ]
     },
     "execution_count": 50,
     "metadata": {},
     "output_type": "execute_result"
    }
   ],
   "source": [
    "#QUESTION 23> Write a code to access the value associated with the key \"name\" in the dictionary {'name': 'Alice', 'age': 30}?\n",
    "h={\"name\":\"Alice\",\"Age\":30}\n",
    "print(h)\n",
    "h[\"name\"]"
   ]
  },
  {
   "cell_type": "code",
   "execution_count": 57,
   "id": "d2b4eb67-642d-418e-ba7e-5784f492a5d4",
   "metadata": {},
   "outputs": [
    {
     "name": "stdout",
     "output_type": "stream",
     "text": [
      "{'name': 'Bob', 'age': 22, 'city': 'New York'}\n",
      "{'name': 'Bob', 'city': 'New York'}\n"
     ]
    }
   ],
   "source": [
    "#QUESTION 24>  Write a code to remove the key \"age\" from the dictionary {'name': 'Bob', 'age': 22, 'city': 'New York'}?\n",
    "d_d={\"name\":\"Bob\",\"age\":22,\"city\":\"New York\"}\n",
    "print(d_d)\n",
    "del d_d[\"age\"]\n",
    "print(d_d)"
   ]
  },
  {
   "cell_type": "code",
   "execution_count": 61,
   "id": "3e58f5db-c88f-4b51-833a-da8d5344ca6a",
   "metadata": {},
   "outputs": [
    {
     "name": "stdout",
     "output_type": "stream",
     "text": [
      "{'name': 'Alice', 'City': 'Paris'}\n",
      "City is present in the dictionary\n"
     ]
    }
   ],
   "source": [
    "#QUESTION 25> Write a code to check if the key \"city\" exists in the dictionary {'name': 'Alice', 'city': 'Paris'}?\n",
    "d_f={\"name\":\"Alice\",\"City\":\"Paris\"}\n",
    "print(d_f)\n",
    "if \"City\" in d_f:\n",
    "    print(\"City is present in the dictionary\")\n",
    "else:\n",
    "    print(\"City is not there\")"
   ]
  },
  {
   "cell_type": "code",
   "execution_count": 63,
   "id": "286b1a4d-329f-48b3-a000-7454d48b0ecd",
   "metadata": {},
   "outputs": [
    {
     "name": "stdout",
     "output_type": "stream",
     "text": [
      "[1, 2, 3, 4, 5]\n",
      "{1, 2, 3, 4, 5}\n",
      "{'name': 'Abhishek', 'age': 22}\n"
     ]
    }
   ],
   "source": [
    "#QUESTION 26>  Write a code to create a list, a tuple, and a dictionary, and print them all?\n",
    "l_1=[1,2,3,4,5]\n",
    "t_6={1,2,3,4,5}\n",
    "dic_d={\"name\":\"Abhishek\",\"age\":22}\n",
    "print(l_1)\n",
    "print(t_6)\n",
    "print(dic_d)"
   ]
  },
  {
   "cell_type": "code",
   "execution_count": 73,
   "id": "14101856-0360-4072-8896-7ef869917241",
   "metadata": {},
   "outputs": [
    {
     "name": "stdout",
     "output_type": "stream",
     "text": [
      "[1, 2, 87, 65, 25, 47, 29, 44, 63]\n",
      "[1, 2, 25, 29, 44, 47, 63, 65, 87]\n"
     ]
    }
   ],
   "source": [
    "#QUESTION 27> Write a code to create a list of 5 random numbers between 1 and 100, sort it in ascending order, and print the \n",
    "# result.?\n",
    "l_11=[1,2,87,65,25,47,29,44,63]\n",
    "print(l_11)\n",
    "l_11.sort()\n",
    "print(l_11)\n"
   ]
  },
  {
   "cell_type": "code",
   "execution_count": 81,
   "id": "e53c2c7e-4f36-45a5-b8e1-e9dc6f14d5d8",
   "metadata": {},
   "outputs": [
    {
     "name": "stdout",
     "output_type": "stream",
     "text": [
      "['a', 'b', 'f', 'x', 'g', 'j']\n"
     ]
    },
    {
     "data": {
      "text/plain": [
       "'x'"
      ]
     },
     "execution_count": 81,
     "metadata": {},
     "output_type": "execute_result"
    }
   ],
   "source": [
    "#QUESTION 28>  Write a code to create a list with strings and print the element at the third index?\n",
    "p=[\"a\",\"b\",\"f\",\"x\",\"g\",\"j\"]\n",
    "print(p)\n",
    "p[3]"
   ]
  },
  {
   "cell_type": "code",
   "execution_count": 89,
   "id": "0e80ad2c-4d69-4d01-b0b8-f3f96710ee21",
   "metadata": {},
   "outputs": [
    {
     "name": "stdout",
     "output_type": "stream",
     "text": [
      "{'name': 'Abhishek', 'Age': 25}\n",
      "{'city': 'Prayagraj', 'pincode': 211006}\n",
      "{'name': 'Abhishek', 'Age': 25, 'city': 'Prayagraj', 'pincode': 211006}\n"
     ]
    }
   ],
   "source": [
    "#QUESTION 29> Write a code to combine two dictionaries into one and print the result?\n",
    "dic_9={\"name\":\"Abhishek\",\"Age\":25}\n",
    "dic_10={\"city\":\"Prayagraj\",\"pincode\":211006}\n",
    "print(dic_9)\n",
    "print(dic_10)\n",
    "dic_9.update(dic_10)\n",
    "print(dic_9)"
   ]
  },
  {
   "cell_type": "code",
   "execution_count": 91,
   "id": "f19a49f3-e149-4cff-b230-5438376b2548",
   "metadata": {},
   "outputs": [
    {
     "name": "stdout",
     "output_type": "stream",
     "text": [
      "{'d', 'f', 'e', 'a'}\n"
     ]
    }
   ],
   "source": [
    "#QUESTION 30>  Write a code to convert a list of strings into a set?\n",
    "l_22=[\"a\",\"d\",\"f\",\"e\",\"f\",\"d\"]\n",
    "d=set(l_22)\n",
    "print(d)\n"
   ]
  },
  {
   "cell_type": "code",
   "execution_count": null,
   "id": "de4314cf-63a2-48af-932b-2c48fe607ea9",
   "metadata": {},
   "outputs": [],
   "source": []
  },
  {
   "cell_type": "code",
   "execution_count": null,
   "id": "6582042f-65bd-4e70-bd5e-f8fb816c9eed",
   "metadata": {},
   "outputs": [],
   "source": []
  },
  {
   "cell_type": "code",
   "execution_count": null,
   "id": "011eb6d0-8da3-4ab7-8f03-a3be3c8538f9",
   "metadata": {},
   "outputs": [],
   "source": []
  },
  {
   "cell_type": "code",
   "execution_count": null,
   "id": "6befa7a9-1591-4b65-a505-3e376c5a2b0a",
   "metadata": {},
   "outputs": [],
   "source": []
  }
 ],
 "metadata": {
  "kernelspec": {
   "display_name": "Python 3 (ipykernel)",
   "language": "python",
   "name": "python3"
  },
  "language_info": {
   "codemirror_mode": {
    "name": "ipython",
    "version": 3
   },
   "file_extension": ".py",
   "mimetype": "text/x-python",
   "name": "python",
   "nbconvert_exporter": "python",
   "pygments_lexer": "ipython3",
   "version": "3.13.3"
  }
 },
 "nbformat": 4,
 "nbformat_minor": 5
}
