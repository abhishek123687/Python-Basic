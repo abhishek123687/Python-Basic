{
 "cells": [
  {
   "cell_type": "markdown",
   "id": "6a23bec2-daab-4db2-9588-d16ac32655f6",
   "metadata": {},
   "source": [
    "QUESTION 1> What is the difference between a function and a method in Python?\n",
    "ANSWER 1> A function is independent- It is defined using the def keyword and can exist outside of class where as a method is a function that is                  associated with an object and called using dot(.)."
   ]
  },
  {
   "cell_type": "markdown",
   "id": "905567ba-0c93-45a2-9012-f2660ff3115b",
   "metadata": {},
   "source": [
    "QUESTION 2> Explain the concept of function arguments and parameters in Python?\n",
    "ANSWER 2>Parameter is the variable inside the function definition (used to recieve values) where as the actual value you pass to the function when              you call it."
   ]
  },
  {
   "cell_type": "markdown",
   "id": "d22d58c9-1a35-46c3-b95a-ef162d4fd92c",
   "metadata": {},
   "source": [
    "QUESTION 3>What are the different ways to define and call a function in Python?\n",
    "ANSWER 3> The different ways to define and call a function in python are-\n",
    "          1. Normal function - def func()\n",
    "          2.with default values - def func( val=0)\n",
    "          3.with return - def func(): return\n",
    "          4.lambda - lambda x : x*x\n",
    "          5.variable args - def func(*args)"
   ]
  },
  {
   "cell_type": "markdown",
   "id": "3c242ab0-ab8e-43ca-b33d-d282e977ba22",
   "metadata": {},
   "source": [
    "QUESTION 4>What is the purpose of the return statement in a Python function?\n",
    "ANSWER 4> The return statement is used in a function to send a result (value) back to the place where the function is called."
   ]
  },
  {
   "cell_type": "markdown",
   "id": "b9616f40-b79b-4fcc-9920-3b974ce72832",
   "metadata": {},
   "source": [
    "QUESTION 5>What are iterators in Python and how do they differ from iterables?\n",
    "ANSWER 5> An iterator is an object that remembers where it is during iteration and gives next item one by one using next () function where as an                 iterable is the object in python that you can loop through using a for loop."
   ]
  },
  {
   "cell_type": "markdown",
   "id": "beac43cb-5d82-4268-9aa3-90a6d0a0badf",
   "metadata": {},
   "source": [
    "QUESTION 6>Explain the concept of generators in Python and how they are defined?\n",
    "ANSWER 6> A generator is a special type of function that generates values one by one,only when needed using the yield keyword."
   ]
  },
  {
   "cell_type": "markdown",
   "id": "67a06598-61f2-4937-b6c5-cc6e6c1c1b4d",
   "metadata": {},
   "source": [
    "QUESTION 7> What are the advantages of using generators over regular functions?\n",
    "ANSWER 7> Advantage of generator over regular function-\n",
    "          1. Memory Efficient.\n",
    "          2. Faster Start Time.\n",
    "          3. State Retention.\n",
    "          4. Clear code Retention."
   ]
  },
  {
   "cell_type": "markdown",
   "id": "c02d644d-0aaf-406f-80bf-97872492a0a3",
   "metadata": {},
   "source": [
    "QUESTION 8>What is a lambda function in Python and when is it typically used?\n",
    "ANSWER 8> A lambda function is a small, one line anonymos function in python. It is used when you need a quick function for a short period of time."
   ]
  },
  {
   "cell_type": "markdown",
   "id": "ad83af8e-d278-4e8d-9183-6f2c8e2214a6",
   "metadata": {},
   "source": [
    "QUESTION 9> Explain the purpose and usage of the map() function in Python?\n",
    "ANSWER 9> The map() funtion is used to apply a function to every item in a list ( or any iterable) and return the result. "
   ]
  },
  {
   "cell_type": "markdown",
   "id": "c0994d63-a8d5-4dfb-be6f-eee8643dbe12",
   "metadata": {},
   "source": [
    "QUESTION 10>What is the difference between map(), reduce(), and filter() functions in Python?\n",
    "ANSWER 10> Map() - Transform every item. \n",
    "           reduce() - keep only matching item.\n",
    "           filter() - combine all into one result."
   ]
  },
  {
   "cell_type": "markdown",
   "id": "21ebf379-16ed-4b7f-8eba-c245ef6a5067",
   "metadata": {},
   "source": [
    "QUESTION 11>. Using pen & Paper write the internal mechanism for sum operation using  reduce function on this given \n",
    "list:[47,11,42,13]?\n",
    "ANSWER 11>"
   ]
  },
  {
   "cell_type": "code",
   "execution_count": null,
   "id": "be4e3d49-4d46-40cf-9192-c9d8138ee8b0",
   "metadata": {},
   "outputs": [],
   "source": []
  },
  {
   "cell_type": "code",
   "execution_count": 3,
   "id": "679c5f7c-53b5-4507-a3b4-f92a9eae09d4",
   "metadata": {},
   "outputs": [],
   "source": [
    "# QUESTION 1> Write a Python function that takes a list of numbers as input and returns the sum of all even numbers in \n",
    "# the list?\n",
    "def even_sum(n):\n",
    "    total=0\n",
    "    for i in n:\n",
    "        if i%2==0:\n",
    "            total+=i\n",
    "    return total"
   ]
  },
  {
   "cell_type": "code",
   "execution_count": 8,
   "id": "b89c6e7a-0e43-4e3e-9716-c48690ab9bab",
   "metadata": {},
   "outputs": [
    {
     "name": "stdout",
     "output_type": "stream",
     "text": [
      "sum of even number 6\n"
     ]
    }
   ],
   "source": [
    "my_list=[1,2,3,4,5]\n",
    "result=even_sum(my_list)\n",
    "print(\"sum of even number\",result)"
   ]
  },
  {
   "cell_type": "code",
   "execution_count": 10,
   "id": "43b16748-d5de-4a74-8111-2353f38bf70d",
   "metadata": {},
   "outputs": [],
   "source": [
    "# QUESTION 2> Create a Python function that accepts a string and returns the reverse of that string.?\n",
    "def rs(text):\n",
    "    return text[::-1]"
   ]
  },
  {
   "cell_type": "code",
   "execution_count": 14,
   "id": "20529923-7ab9-431b-925a-a1b99bfa85f0",
   "metadata": {},
   "outputs": [
    {
     "name": "stdout",
     "output_type": "stream",
     "text": [
      "olleh\n"
     ]
    }
   ],
   "source": [
    "k=\"hello\"\n",
    "y=rs(k)\n",
    "print(y)"
   ]
  },
  {
   "cell_type": "code",
   "execution_count": 37,
   "id": "ceec5b1a-7641-473e-aa76-c632b3600de4",
   "metadata": {},
   "outputs": [],
   "source": [
    "# QUESTION 3>  Implement a Python function that takes a list of integers and returns a new list containing the squares of \n",
    "# each number?\n",
    "def square(n):\n",
    "    k=[]\n",
    "    for i in n:\n",
    "        k.append(i**2)\n",
    "    return k"
   ]
  },
  {
   "cell_type": "code",
   "execution_count": 38,
   "id": "409d384b-9080-417d-8109-0f1f8561ab06",
   "metadata": {},
   "outputs": [
    {
     "name": "stdout",
     "output_type": "stream",
     "text": [
      "[25, 36, 49, 64]\n"
     ]
    }
   ],
   "source": [
    "my_list=[5,6,7,8]\n",
    "result=square(my_list)\n",
    "print(result)\n"
   ]
  },
  {
   "cell_type": "code",
   "execution_count": 50,
   "id": "0348792f-3d74-4208-9f27-316de5ca8bf8",
   "metadata": {},
   "outputs": [],
   "source": [
    "# QUESTION 4> Write a Python function that checks if a given number is prime or not from 1 to 200?\n",
    "def check_prime(n):\n",
    "    if n %2 ==0:\n",
    "        print(\" even number\")\n",
    "    else:\n",
    "        print(\"prime number\")"
   ]
  },
  {
   "cell_type": "code",
   "execution_count": 51,
   "id": "39384151-7d4f-4b9d-b5cf-6fc3fa3cc957",
   "metadata": {},
   "outputs": [
    {
     "name": "stdin",
     "output_type": "stream",
     "text": [
      "Please enter the number: 4\n"
     ]
    },
    {
     "name": "stdout",
     "output_type": "stream",
     "text": [
      " even number\n"
     ]
    }
   ],
   "source": [
    "k=int(input(\"Please enter the number:\"))\n",
    "result=check_prime(k)"
   ]
  },
  {
   "cell_type": "code",
   "execution_count": null,
   "id": "7e12dd28-428b-4029-93e4-e142cac1f441",
   "metadata": {},
   "outputs": [],
   "source": [
    "# QUESTION 5>Create an iterator class in Python that generates the Fibonacci sequence up to a specified number of terms?\n"
   ]
  },
  {
   "cell_type": "code",
   "execution_count": 54,
   "id": "e38a68f6-f968-44c9-9310-d5f5831bcf8d",
   "metadata": {},
   "outputs": [],
   "source": [
    "# QUESTION 6> Write a generator function in Python that yields the powers of 2 up to a given exponent?\n",
    "def power_of_two(max_exponent):\n",
    "    for i in range(max_exponent + 1):\n",
    "        yield 2 ** i"
   ]
  },
  {
   "cell_type": "code",
   "execution_count": 55,
   "id": "bdf6c811-f4f8-4ef9-ad73-102df85345b2",
   "metadata": {},
   "outputs": [
    {
     "name": "stdout",
     "output_type": "stream",
     "text": [
      "1\n",
      "2\n",
      "4\n",
      "8\n",
      "16\n",
      "32\n"
     ]
    }
   ],
   "source": [
    "for num in power_of_two(5):\n",
    "    print(num)"
   ]
  },
  {
   "cell_type": "code",
   "execution_count": null,
   "id": "f5a18469-4f12-4576-9d0d-b32d87e39edb",
   "metadata": {},
   "outputs": [],
   "source": [
    "# QUESTION 7> Implement a generator function that reads a file line by line and yields each line as a string?\n"
   ]
  },
  {
   "cell_type": "code",
   "execution_count": null,
   "id": "5812fe64-df6b-4a68-ba69-6ff8cb2abb20",
   "metadata": {},
   "outputs": [],
   "source": [
    "# QUESTION 8> Use a lambda function in Python to sort a list of tuples based on the second element of each tuple?"
   ]
  },
  {
   "cell_type": "code",
   "execution_count": null,
   "id": "02db1915-c49c-4563-a9c1-611011b239bd",
   "metadata": {},
   "outputs": [],
   "source": [
    "# QUESTION 9> Write a Python program that uses `map()` to convert a list of temperatures from Celsius to Fahrenheit?"
   ]
  },
  {
   "cell_type": "code",
   "execution_count": null,
   "id": "0f40cfcb-f0eb-4f9b-97f6-a929c3f8d1fb",
   "metadata": {},
   "outputs": [],
   "source": [
    "# QUESTION 10> Create a Python program that uses `filter()` to remove all the vowels from a given string?"
   ]
  },
  {
   "cell_type": "code",
   "execution_count": null,
   "id": "437f81c6-b010-40b4-8b56-bb174788a30f",
   "metadata": {},
   "outputs": [],
   "source": [
    "# QUESTION 11> Imagine an accounting routine used in a book shop. It works on a list with sublists, which look like this:\n",
    "#Write a Python program, which returns a list with 2-tuples. Each tuple consists of the order number and the \n",
    "#product of the price per item and the quantity. The product should be increased by 10,- € if the value of the \n",
    "#order is smaller than 100,00.\n",
    "#Write a Python program using lambda and map.?"
   ]
  },
  {
   "cell_type": "code",
   "execution_count": null,
   "id": "068ba0d8-d468-4ed5-9f7d-32f9c448d69e",
   "metadata": {},
   "outputs": [],
   "source": []
  },
  {
   "cell_type": "code",
   "execution_count": null,
   "id": "1439e805-02ba-429d-b84a-b3e54e8d9698",
   "metadata": {},
   "outputs": [],
   "source": []
  },
  {
   "cell_type": "code",
   "execution_count": null,
   "id": "c49a9941-7bf0-4779-a223-d5ed0a517a38",
   "metadata": {},
   "outputs": [],
   "source": []
  }
 ],
 "metadata": {
  "kernelspec": {
   "display_name": "Python 3 (ipykernel)",
   "language": "python",
   "name": "python3"
  },
  "language_info": {
   "codemirror_mode": {
    "name": "ipython",
    "version": 3
   },
   "file_extension": ".py",
   "mimetype": "text/x-python",
   "name": "python",
   "nbconvert_exporter": "python",
   "pygments_lexer": "ipython3",
   "version": "3.13.3"
  }
 },
 "nbformat": 4,
 "nbformat_minor": 5
}
