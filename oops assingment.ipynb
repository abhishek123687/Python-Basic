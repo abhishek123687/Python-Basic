{
 "cells": [
  {
   "cell_type": "markdown",
   "id": "ab58a390-cb5f-467d-8bcd-5ccda57abeda",
   "metadata": {},
   "source": [
    "QUESTION 1. What is Object-Oriented Programming (OOP)?\n",
    "ANSWER 1. OOP is a programming paradigm based on the concept of \"objects\", which can contain data and code to manipulate that data."
   ]
  },
  {
   "cell_type": "markdown",
   "id": "fa686650-b77c-4d23-b80c-24bcbc11620e",
   "metadata": {},
   "source": [
    "QUESTION 2. What is a class in OOP?\n",
    "ANSWER 2 A class is a blueprint for creating objects. It defines attributes and methods."
   ]
  },
  {
   "cell_type": "markdown",
   "id": "f8e2d6df-5322-4ee8-9d23-96ea056bfe5c",
   "metadata": {},
   "source": [
    "QUESTION 3. What is an object in OOP?\n",
    "ANSWER 3. An object is an instance of a class. It holds actual data."
   ]
  },
  {
   "cell_type": "markdown",
   "id": "17733ccb-7108-412f-a8a7-459ffbf82f51",
   "metadata": {},
   "source": [
    "QUESTION 4. Difference between abstraction and encapsulation?\n",
    "ANSWER 4. Abstraction hides complexity by showing only essential features.\n",
    "          Encapsulation restricts access to internal data using private/protected members."
   ]
  },
  {
   "cell_type": "markdown",
   "id": "c253f128-c756-4972-98ea-bd8d26f71529",
   "metadata": {},
   "source": [
    "QUESTION 5.What is Dunder methods in Python?\n",
    "ANSWER 5. Special methods with double underscores like __init__, __str__, __repr__, etc."
   ]
  },
  {
   "cell_type": "markdown",
   "id": "0c3bc62b-ed22-44a4-97bc-09eed8de3554",
   "metadata": {},
   "source": [
    "QUESTION 6. Expalin the concept of Inheritance in OOP\n",
    "ANSWER 6.One class (child) can inherit attributes and methods from another (parent).\n"
   ]
  },
  {
   "cell_type": "markdown",
   "id": "25ab40b6-6d63-4745-9b09-33e078c92414",
   "metadata": {},
   "source": [
    "QUESTION 7. What is Polymorphism in OOP?\n",
    "ANSWER 7. Polymorphism allows different classes to use the same interface (methods).\n"
   ]
  },
  {
   "cell_type": "markdown",
   "id": "cae15d89-ea90-4249-8a0a-191aeea8d0c0",
   "metadata": {},
   "source": [
    "QUESTION 8. How is encapsulation achieved in Python?\n",
    "ANSWER 8.Encapsulation is achieved using access modifiers:\n",
    "         Protected: suggested as protected (accessible within class and subclasses)\n",
    "         Private: name mangling makes it harder to access from outside the class"
   ]
  },
  {
   "cell_type": "markdown",
   "id": "f3a29e3a-592a-468e-af56-029304b77be3",
   "metadata": {},
   "source": [
    "QUESTION 9. What is a constructor in Python?\n",
    "ANSWER 9.A constructor is a special method named __init__ that is automatically called when a new object is created. \n",
    "         It is used to initialize object properties.\n"
   ]
  },
  {
   "cell_type": "markdown",
   "id": "a87f5efa-1127-4122-8723-83cc13999b85",
   "metadata": {},
   "source": [
    "QUESTION 10. What are class and static methods in Python?\n",
    "ANSWER 10- Class methods are methods that take the class as the first argument. Defined with classmethod decorator.\n",
    "           Static methods do not take self or cls as arguments. Defined with staticmethod decorator."
   ]
  },
  {
   "cell_type": "markdown",
   "id": "c38a7428-8d60-42bc-8ce7-e8836843303d",
   "metadata": {},
   "source": [
    "QUESTION 11. What is method overloading in Python?\n",
    "ANSWER 11.Python does not support traditional method overloading. Instead, we can use default arguments or args and **kwargs to simulate overloading.\n"
   ]
  },
  {
   "cell_type": "markdown",
   "id": "cf1e1e61-0e8f-4429-bb18-0f1428a482b3",
   "metadata": {},
   "source": [
    "QUESTION 12. What is method overriding in OOP?\n",
    "ANSWER 12.Method overriding occurs when a subclass defines a method with the same name as a method in its superclass, changing its behavior.\n"
   ]
  },
  {
   "cell_type": "markdown",
   "id": "d562f598-e727-4f6c-b89c-f502c96aa1e8",
   "metadata": {},
   "source": [
    "QUESTION 13. What is a property decorator in Python?\n",
    "ANSWER 13.Property decorator allows defining methods that can be accessed like attributes. It’s used for encapsulation and controlling access."
   ]
  },
  {
   "cell_type": "markdown",
   "id": "d99e87f3-170d-40b8-8b87-0689f4300278",
   "metadata": {},
   "source": [
    "QUESTION 14. Why is polymorphism important in OOP?\n",
    "ANSWER 14. Polymorphism allows different classes to be treated through a common interface, increasing flexibility and scalability of the code."
   ]
  },
  {
   "cell_type": "markdown",
   "id": "893222ea-6d71-4a8d-b3a5-f9fe59d6d293",
   "metadata": {},
   "source": [
    "QUESTION 15. What is an abstract class in Python?\n",
    "ANSWER 15.An abstract class cannot be instantiated and may contain abstract methods, which must be implemented by subclasses. Use abc module to define."
   ]
  },
  {
   "cell_type": "markdown",
   "id": "67f57a43-cafb-401e-837e-8815d440bc09",
   "metadata": {},
   "source": [
    "QUESTION 16. What are the advantages of OOP?\n",
    "ANSWER 16. The advantage of oops are-\n",
    "- Code reusability\n",
    "- Modularity\n",
    "- Maintainability\n",
    "- Scalability\n",
    "- Real-world modeling"
   ]
  },
  {
   "cell_type": "markdown",
   "id": "fb4b7538-1618-4874-b0e3-22e2cfca182c",
   "metadata": {},
   "source": [
    "QUESTION 17. What is the difference between a class variable and an instance variable?\n",
    "ANSWER 17.Class variable: Shared by all instances of the class.\n",
    "           Instance variable: Unique to each instance."
   ]
  },
  {
   "cell_type": "markdown",
   "id": "47e39ef9-3337-43ee-967d-c1d9991c5fb2",
   "metadata": {},
   "source": [
    "QUESTION 18. What is multiple inheritance in Python?\n",
    "ANSWER 18.Multiple inheritance is when a class inherits from more than one parent class. Python supports it directly."
   ]
  },
  {
   "cell_type": "markdown",
   "id": "1878922a-ddbf-45a5-a730-f17fe98513db",
   "metadata": {},
   "source": [
    "QUESTION 19. Explain the purpose of __str__ and __repr__ methods in Python.\n",
    "ANSWER 19. __str__: User-friendly string representation.\n",
    "           __repr__: Developer-friendly representation for debugging."
   ]
  },
  {
   "cell_type": "markdown",
   "id": "be9a17a3-e0c3-4466-bb20-292a90bde2b8",
   "metadata": {},
   "source": [
    "20. What is the significance of the super() function in Python?\n",
    "ANSWER 20. super() is used to call methods from the parent class. It’s commonly used to initialize the parent class.\n"
   ]
  },
  {
   "cell_type": "markdown",
   "id": "e5ff0148-404c-4ede-ae84-145d1e3c09a6",
   "metadata": {},
   "source": [
    "QUESTION 21. What is the significance of the __del__ method in Python?\n",
    "ANSWER 21.__del__ is a destructor method. It is called when an object is about to be destroyed."
   ]
  },
  {
   "cell_type": "markdown",
   "id": "c601165c-c166-4431-8082-f8e26a663ce4",
   "metadata": {},
   "source": [
    "QUESTION 22. What is the difference between staticmethod and classmethod in Python?\n",
    "ANSWER 22. staticmethod: No access to class or instance.\n",
    "           classmethod: Access to the class using cls parameter.\n"
   ]
  },
  {
   "cell_type": "markdown",
   "id": "8deb0381-0b0d-498f-ac27-9a1fad20b9a5",
   "metadata": {},
   "source": [
    "QUESTION 23. How does polymorphism work in Python with inheritance?\n",
    "ANSWER 23. In inheritance, child classes can override parent methods. When called through the base class reference, the child class method is executed."
   ]
  },
  {
   "cell_type": "markdown",
   "id": "88559f98-a9df-444a-8ce0-d3a79b522200",
   "metadata": {},
   "source": [
    "QUESTION 24. What is method chaining in Python OOP?\n",
    "ANSWER 24.Method chaining is calling multiple methods on an object in a single line, made possible by returning self at the end of each method."
   ]
  },
  {
   "cell_type": "markdown",
   "id": "7f1f27a4-9e2f-4d00-99b6-4cc41e1dcd5c",
   "metadata": {},
   "source": [
    "QUESTION 25. What is the purpose of the __call__ method in Python?\n",
    "ANSWER 25.The __call__ method allows an object to be called like a function using object() syntax.\n"
   ]
  },
  {
   "cell_type": "code",
   "execution_count": null,
   "id": "8825f394-85af-4d26-bd97-bbb4e24c7882",
   "metadata": {},
   "outputs": [],
   "source": []
  },
  {
   "cell_type": "code",
   "execution_count": null,
   "id": "f07c5fff-82ec-4d72-9ece-6b46409dd907",
   "metadata": {},
   "outputs": [],
   "source": [
    "# CODING QUESTION"
   ]
  },
  {
   "cell_type": "code",
   "execution_count": 1,
   "id": "71dc3fdf-fdfe-4f46-9ac7-a57d6083c4ef",
   "metadata": {},
   "outputs": [],
   "source": [
    "# 1\n",
    "class Animal:\n",
    "    def speak(self):\n",
    "        print(\"Generic animal sound\")\n",
    "\n",
    "class Dog(Animal):\n",
    "    def speak(self):\n",
    "        print(\"Bark!\")"
   ]
  },
  {
   "cell_type": "code",
   "execution_count": 2,
   "id": "1547a62e-bf5a-46e8-8917-02c349bf8de1",
   "metadata": {},
   "outputs": [],
   "source": [
    "# 2\n",
    "from abc import ABC, abstractmethod\n",
    "class Shape(ABC):\n",
    "    @abstractmethod\n",
    "    def area(self):\n",
    "        pass\n",
    "\n",
    "class Circle(Shape):\n",
    "    def __init__(self, radius):\n",
    "        self.radius = radius\n",
    "    def area(self):\n",
    "        return 3.14 * self.radius ** 2\n",
    "\n",
    "class Rectangle(Shape):\n",
    "    def __init__(self, l, b):\n",
    "        self.l = l\n",
    "        self.b = b\n",
    "    def area(self):\n",
    "        return self.l * self.b"
   ]
  },
  {
   "cell_type": "code",
   "execution_count": null,
   "id": "0bca5e48-b52e-4cb9-951d-944be9cc0c0d",
   "metadata": {},
   "outputs": [],
   "source": [
    "# 3\n",
    "class Vehicle:\n",
    "    def __init__(self, type):\n",
    "        self.type = type\n",
    "\n",
    "class Car(Vehicle):\n",
    "    def __init__(self, type, brand):\n",
    "        super().__init__(type)\n",
    "        self.brand = brand\n",
    "\n",
    "class ElectricCar(Car):\n",
    "    def __init__(self, type, brand, battery):\n",
    "        super().__init__(type, brand)\n",
    "        self.battery = battery\n"
   ]
  },
  {
   "cell_type": "code",
   "execution_count": null,
   "id": "ac6b45da-ba62-42aa-8c8b-4343fada7479",
   "metadata": {},
   "outputs": [],
   "source": [
    "# 4\n",
    "class Bird:\n",
    "    def fly(self):\n",
    "        print(\"Bird flying\")\n",
    "\n",
    "class Sparrow(Bird):\n",
    "    def fly(self):\n",
    "        print(\"Sparrow flying\")\n",
    "\n",
    "class Penguin(Bird):\n",
    "    def fly(self):\n",
    "        print(\"Penguins cannot fly\")\n"
   ]
  },
  {
   "cell_type": "code",
   "execution_count": 3,
   "id": "e64e279b-7d31-438f-b485-93ac309fed6d",
   "metadata": {},
   "outputs": [],
   "source": [
    "# 5\n",
    "class BankAccount:\n",
    "    def __init__(self):\n",
    "        self.__balance = 0\n",
    "    def deposit(self, amount):\n",
    "        self.__balance += amount\n",
    "    def withdraw(self, amount):\n",
    "        if amount <= self.__balance:\n",
    "            self.__balance -= amount\n",
    "    def get_balance(self):\n",
    "        return self.__balance"
   ]
  },
  {
   "cell_type": "code",
   "execution_count": 4,
   "id": "5b71793a-becb-4bfd-8f24-0a3112402bdb",
   "metadata": {},
   "outputs": [],
   "source": [
    "# 6\n",
    "class Instrument:\n",
    "    def play(self):\n",
    "        print(\"Playing instrument\")\n",
    "\n",
    "class Guitar(Instrument):\n",
    "    def play(self):\n",
    "        print(\"Playing Guitar\")\n",
    "\n",
    "class Piano(Instrument):\n",
    "    def play(self):\n",
    "        print(\"Playing Piano\")"
   ]
  },
  {
   "cell_type": "code",
   "execution_count": null,
   "id": "3cd46157-d48a-4894-b3a5-c72017d97eaa",
   "metadata": {},
   "outputs": [],
   "source": [
    "\n",
    "# 7\n",
    "class MathOperations:\n",
    "    @classmethod\n",
    "    def add_numbers(cls, a, b):\n",
    "        return a + b\n",
    "    \n",
    "    @staticmethod\n",
    "    def subtract_numbers(a, b):\n",
    "        return a - b"
   ]
  },
  {
   "cell_type": "code",
   "execution_count": 5,
   "id": "7394aa1e-9b74-47e0-b3d7-b7ce5a1b85d4",
   "metadata": {},
   "outputs": [],
   "source": [
    "# 8\n",
    "class Person:\n",
    "    count = 0\n",
    "    def __init__(self):\n",
    "        Person.count += 1\n",
    "    @classmethod\n",
    "    def total_persons(cls):\n",
    "        return cls.count\n"
   ]
  },
  {
   "cell_type": "code",
   "execution_count": 6,
   "id": "c93e3fb1-2415-4c62-abe5-85e1b39ff078",
   "metadata": {},
   "outputs": [],
   "source": [
    "# 9\n",
    "class Fraction:\n",
    "    def __init__(self, num, denom):\n",
    "        self.num = num\n",
    "        self.denom = denom\n",
    "    def __str__(self):\n",
    "        return f\"{self.num}/{self.denom}\""
   ]
  },
  {
   "cell_type": "code",
   "execution_count": null,
   "id": "f4b06a77-8be7-458b-96d5-364891966e23",
   "metadata": {},
   "outputs": [],
   "source": [
    "# 10\n",
    "class Vector:\n",
    "    def __init__(self, x, y):\n",
    "        self.x = x\n",
    "        self.y = y\n",
    "    def __add__(self, other):\n",
    "        return Vector(self.x + other.x, self.y + other.y)\n",
    "    def __str__(self):\n",
    "        return f\"({self.x}, {self.y})\""
   ]
  },
  {
   "cell_type": "code",
   "execution_count": 7,
   "id": "1754f986-d53f-4b82-873c-cf32948cb8b4",
   "metadata": {},
   "outputs": [],
   "source": [
    "# 11\n",
    "class Person:\n",
    "    def __init__(self, name, age):\n",
    "        self.name = name\n",
    "        self.age = age\n",
    "    def greet(self):\n",
    "        print(f\"Hello, my name is {self.name} and I am {self.age} years old.\")\n"
   ]
  },
  {
   "cell_type": "code",
   "execution_count": null,
   "id": "5294bdb5-aa4b-4ae2-8846-8775029e0c24",
   "metadata": {},
   "outputs": [],
   "source": [
    "# 12\n",
    "class Student:\n",
    "    def __init__(self, name, grades):\n",
    "        self.name = name\n",
    "        self.grades = grades\n",
    "    def average_grade(self):\n",
    "        return sum(self.grades) / len(self.grades)"
   ]
  },
  {
   "cell_type": "code",
   "execution_count": 8,
   "id": "317aa11c-b873-4f9f-bac8-a0fe4f280f79",
   "metadata": {},
   "outputs": [],
   "source": [
    "# 13\n",
    "class Rectangle:\n",
    "    def set_dimensions(self, l, b):\n",
    "        self.l = l\n",
    "        self.b = b\n",
    "    def area(self):\n",
    "        return self.l * self.b\n"
   ]
  },
  {
   "cell_type": "code",
   "execution_count": 9,
   "id": "416dfd9c-3f1a-4a44-af02-1ac754839040",
   "metadata": {},
   "outputs": [],
   "source": [
    "# 14\n",
    "class Employee:\n",
    "    def calculate_salary(self, hours, rate):\n",
    "        return hours * rate\n",
    "\n",
    "class Manager(Employee):\n",
    "    def calculate_salary(self, hours, rate, bonus):\n",
    "        return super().calculate_salary(hours, rate) + bonus"
   ]
  },
  {
   "cell_type": "code",
   "execution_count": 10,
   "id": "cad42520-4321-4fb7-8fdc-74c61d85d102",
   "metadata": {},
   "outputs": [],
   "source": [
    "# 15\n",
    "class Product:\n",
    "    def __init__(self, name, price, quantity):\n",
    "        self.name = name\n",
    "        self.price = price\n",
    "        self.quantity = quantity\n",
    "    def total_price(self):\n",
    "        return self.price * self.quantity"
   ]
  },
  {
   "cell_type": "code",
   "execution_count": 11,
   "id": "4828f145-c73b-42a8-a19a-863d78613439",
   "metadata": {},
   "outputs": [],
   "source": [
    "# 16\n",
    "class Animal(ABC):\n",
    "    @abstractmethod\n",
    "    def sound(self):\n",
    "        pass\n",
    "\n",
    "class Cow(Animal):\n",
    "    def sound(self):\n",
    "        print(\"Moo\")\n",
    "\n",
    "class Sheep(Animal):\n",
    "    def sound(self):\n",
    "        print(\"Baa\")"
   ]
  },
  {
   "cell_type": "code",
   "execution_count": null,
   "id": "43056d0e-6ece-4d7e-99f7-2ba02dc9c7ff",
   "metadata": {},
   "outputs": [],
   "source": [
    "# 17\n",
    "class Book:\n",
    "    def __init__(self, title, author, year):\n",
    "        self.title = title\n",
    "        self.author = author\n",
    "        self.year = year\n",
    "    def get_book_info(self):\n",
    "        return f\"{self.title} by {self.author}, published in {self.year}\""
   ]
  },
  {
   "cell_type": "code",
   "execution_count": 12,
   "id": "f49381ae-6799-4c06-b317-d4d801349b7d",
   "metadata": {},
   "outputs": [],
   "source": [
    "# 18\n",
    "class House:\n",
    "    def __init__(self, address, price):\n",
    "        self.address = address\n",
    "        self.price = price\n",
    "\n",
    "class Mansion(House):\n",
    "    def __init__(self, address, price, number_of_rooms):\n",
    "        super().__init__(address, price)\n",
    "        self.number_of_rooms = number_of_rooms"
   ]
  },
  {
   "cell_type": "code",
   "execution_count": null,
   "id": "c6aefd55-2d09-4941-b429-3a99f25784b8",
   "metadata": {},
   "outputs": [],
   "source": []
  },
  {
   "cell_type": "code",
   "execution_count": null,
   "id": "f84ec0bf-96e1-4164-8920-f3043d8905b4",
   "metadata": {},
   "outputs": [],
   "source": []
  },
  {
   "cell_type": "code",
   "execution_count": null,
   "id": "5a2667bc-5606-4c60-b609-7796fe97cd01",
   "metadata": {},
   "outputs": [],
   "source": []
  }
 ],
 "metadata": {
  "kernelspec": {
   "display_name": "Python 3 (ipykernel)",
   "language": "python",
   "name": "python3"
  },
  "language_info": {
   "codemirror_mode": {
    "name": "ipython",
    "version": 3
   },
   "file_extension": ".py",
   "mimetype": "text/x-python",
   "name": "python",
   "nbconvert_exporter": "python",
   "pygments_lexer": "ipython3",
   "version": "3.13.3"
  }
 },
 "nbformat": 4,
 "nbformat_minor": 5
}
