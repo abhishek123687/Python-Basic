{
 "cells": [
  {
   "cell_type": "raw",
   "id": "5ac8f7cb-2503-4e6a-ba7c-1bc7f4dede11",
   "metadata": {},
   "source": [
    "QUESTION 1. What is the difference between interpreted and compiled languages?\n",
    "ANSWER 1.  In interpreted language code is executed line by line and code is executed directly without a seprate compilation step to convert into                 machine code whereas in compiled language source code is transform into machine code by compiler."
   ]
  },
  {
   "cell_type": "raw",
   "id": "1fa0572a-e1e3-4a3d-900c-3e8b92da4a9e",
   "metadata": {},
   "source": [
    "QUESTION 2. What is exception handling in Python?\n",
    "ANSWER 2. In python, exception handling is an event that occurs during programme execution that disrupt the regular flow of code."
   ]
  },
  {
   "cell_type": "raw",
   "id": "8be6364e-0efc-438f-81bd-ca8db4287f85",
   "metadata": {},
   "source": [
    "QUESTION 3. What is the purpose of the finally block in exception handling?\n",
    "ANSWER 3. Be your excetional handling done or not finally block always run."
   ]
  },
  {
   "cell_type": "raw",
   "id": "442b3d6b-5ce8-4e24-9932-661750134987",
   "metadata": {},
   "source": [
    "QUESTION 4.What is logging in Python?\n",
    "ANWER 4. It records the state and flow of our program/code/software. It is useful for understanding, monitorning and debuggingof your code. It shows            how profgramme behaves over time."
   ]
  },
  {
   "cell_type": "raw",
   "id": "cd82da31-268d-41a7-824c-e1b66b41921f",
   "metadata": {},
   "source": [
    "QUESTION 5. What is the significance of the __del__ method in Python?\n",
    "ANSWER 5. In Python, the __del__ method is a destructor method. It is called automatically when an object is about to be destroyed (i.e., when its               reference count reaches zero, and garbage collector removes it)."
   ]
  },
  {
   "cell_type": "raw",
   "id": "47523084-01be-45dd-a79a-c4ef51d6655b",
   "metadata": {},
   "source": [
    "QUESTION 6. What is the difference between import and from ... import in Python?\n",
    "ANSWER 6. In Python, both import and from ... import ... are used to bring code (functions, classes, variables, modules) into your program, but they             work differently. Import brings the entire module into your program where as from ... import ... brings specific attributes (functions,                classes, variables) from a module directly into your program’s namespace."
   ]
  },
  {
   "cell_type": "raw",
   "id": "4f5673af-233a-482b-80aa-7e76c95a0084",
   "metadata": {},
   "source": [
    "QUESTION 7. How can you handle multiple exceptions in Python?\n",
    "ANSWER 7. There are three main ways-\n",
    "           1.Multiple except Blocks.\n",
    "           2.Catch Multiple Exceptions in a Single Block.\n",
    "           3.Generic Exception Handling."
   ]
  },
  {
   "cell_type": "raw",
   "id": "1d5dd900-ee9d-49c7-8a09-e7c00ad59086",
   "metadata": {},
   "source": [
    "QUESTION 8. What is the purpose of the with statement when handling files in Python?\n",
    "ANSWER 8. This is the context manager. It automatically handles opening and closing of python."
   ]
  },
  {
   "cell_type": "raw",
   "id": "83ee6cb6-7a34-4ede-9918-3bb13926ecc8",
   "metadata": {},
   "source": [
    "QUESTION 9. What is the difference between multithreading and multiprocessing?\n",
    "ANSWER 9. Multithreading runs concurrently where as Multiprocessing runs parallely."
   ]
  },
  {
   "cell_type": "raw",
   "id": "c9eb348b-3c74-4041-9432-400af17f42c5",
   "metadata": {},
   "source": [
    "QUESTION 10. What are the advantages of using logging in a program?\n",
    "ANSWER 10. The advantages of using logging in a program-\n",
    "           1.Provides Better Debugging Information.\n",
    "           2.Supports Different Severity Levels.\n",
    "           3.More Flexible than print()."
   ]
  },
  {
   "cell_type": "raw",
   "id": "bd88bff7-65a7-4174-b07f-e157eba8a55f",
   "metadata": {},
   "source": [
    "QUESTION 11.What is memory management in Python?\n",
    "ANSWER 11. Memory management is a core concept in Python because it decides how your program uses and frees up memory."
   ]
  },
  {
   "cell_type": "raw",
   "id": "80b98977-7fef-4cb2-8d77-ad1bce4807b4",
   "metadata": {},
   "source": [
    "QUESTION 12.What are the basic steps involved in exception handling in Python?\n",
    "ANSWER 12. try:\n",
    "             suspicious code\n",
    "            except:\n",
    "               executed when exception occur in try block."
   ]
  },
  {
   "cell_type": "raw",
   "id": "b78dce0a-2ece-4ca8-acc6-b62473454e56",
   "metadata": {},
   "source": [
    "QUESTION 13.Why is memory management important in Python?\n",
    "ANSWER 13. Memory management is crucial in Python because Python is widely used for data-heavy tasks (like AI, ML, finance, and web apps), where                  memory usage directly affects performance."
   ]
  },
  {
   "cell_type": "raw",
   "id": "95cec51a-fac9-453b-bac6-2c8c4cc66728",
   "metadata": {},
   "source": [
    "QUESTION 14. What is the role of try and except in exception handling?\n",
    "ANSWER 14.  In Python, try and except are the core of exception handling. They allow your program to run smoothly even when errors occur, instead of               crashing. Try block used to wrap code that might cause an error (exception) where as except block used to handle the error gracefully                  instead of stopping the program."
   ]
  },
  {
   "cell_type": "raw",
   "id": "9358b8d4-e08d-42e5-8160-ddb9b784eae6",
   "metadata": {},
   "source": [
    "QUESTION 15.How does Python's garbage collection system work?\n",
    "ANSWER 15. Python’s garbage collection system is designed to automatically manage memory by reclaiming objects that are no longer in use. This helps              developers avoid memory leaks and manual memory management. It mainly works through two mechanisms: reference counting and cyclic garbage              collector."
   ]
  },
  {
   "cell_type": "raw",
   "id": "e552e683-d249-4130-a2ad-6b6b1f8a8f91",
   "metadata": {},
   "source": [
    "QUESTION 16.What is the purpose of the else block in exception handling?\n",
    "ANSWER 16. In Python’s exception handling, the else block in a try-except statement has a special purpose:\n",
    "           1. The code inside the else block runs only if no exception was raised in the try block.\n",
    "\n",
    "           2. It is often used for code that should only execute when the try succeeds (i.e., no errors occurred).\n",
    "\n",
    "           3. It helps separate \"error handling\" code from \"success path\" code, making the program more readable."
   ]
  },
  {
   "cell_type": "raw",
   "id": "78b37e5e-c053-4634-a404-2c5ac2f0283f",
   "metadata": {},
   "source": [
    "QUESTION 17.What are the common logging levels in Python?\n",
    "ANSWER 17. The common logging leve; of python are- Debug, INFO, Warning, Error, Critical."
   ]
  },
  {
   "cell_type": "raw",
   "id": "1f5428c8-273b-4721-8910-1dca84304deb",
   "metadata": {},
   "source": [
    "QUESTION 18.What is the difference between os.fork() and multiprocessing in Python?                                                                    ANSWER 18. os.fork() and the multiprocessing module in Python are used to create new processes-\n",
    "            os.fork is used in low level system where as multiprocessing is used in high level python module."
   ]
  },
  {
   "cell_type": "raw",
   "id": "53298bfa-094f-4f51-8fd0-70cbb06ec656",
   "metadata": {},
   "source": [
    "QUESTION 19. What is the importance of closing a file in Python?\n",
    "ANSWER 19. Closing a file in Python is important because it frees system resources and ensures all data is properly saved (flushed) to disk. Not                  closing may cause data loss, file corruption, or file locks."
   ]
  },
  {
   "cell_type": "raw",
   "id": "b7a1a593-cc7d-44a2-b4f9-96a003610f58",
   "metadata": {},
   "source": [
    "QUESTION 20. What is the difference between file.read() and file.readline() in Python?\n",
    "ANSWER 20. file.read() → Reads the entire file content (or a given number of characters if you pass a size).\n",
    "           file.readline() → Reads the file one line at a time (up to the newline character)."
   ]
  },
  {
   "cell_type": "raw",
   "id": "502a2902-c117-43fd-a0f4-35584dd0ffaf",
   "metadata": {},
   "source": [
    "QUESTION 21. What is the logging module in Python used for?\n",
    "ANSWER 21. The logging module is used to report status, errors, and useful information from programs in a structured way, instead of just using                    print()."
   ]
  },
  {
   "cell_type": "raw",
   "id": "f86c2e7f-085c-47dd-89e6-b9399abf9250",
   "metadata": {},
   "source": [
    "QUESTION 22. What is the os module in Python used for in file handling?\n",
    "ANSWER 22. The os module is used in file handling to manage files, directories, and paths at the operating system level."
   ]
  },
  {
   "cell_type": "raw",
   "id": "c442677f-accd-4677-a021-e0c68ce89b8a",
   "metadata": {},
   "source": [
    "QUESTION 23.What are the challenges associated with memory management in Python?\n",
    "ANSWER 23. Challenges include garbage collection overhead, memory leaks, fragmentation, high memory usage for large data, and GIL limitations."
   ]
  },
  {
   "cell_type": "raw",
   "id": "ddf0395e-1e57-426f-87ec-3740982a589f",
   "metadata": {},
   "source": [
    "QUESTION 24. How do you raise an exception manually in Python?\n",
    "ANSWER 24. Use raise ExceptionType(\"message\") to manually trigger an error in Python."
   ]
  },
  {
   "cell_type": "raw",
   "id": "7566efa1-12e7-400a-b876-3a7c7d51e9dd",
   "metadata": {},
   "source": [
    "QUESTION 25.Why is it important to use multithreading in certain applications?\n",
    "ANSWER 25. Multithreading is important in certain applications because it allows a program to do multiple tasks at the same time within a single                  process."
   ]
  },
  {
   "cell_type": "code",
   "execution_count": null,
   "id": "43dde221-d541-466b-8328-54352a14d539",
   "metadata": {},
   "outputs": [],
   "source": []
  },
  {
   "cell_type": "code",
   "execution_count": null,
   "id": "58a82ed3-6e60-4c01-bde8-62f8412843dd",
   "metadata": {},
   "outputs": [],
   "source": [
    "# coding "
   ]
  },
  {
   "cell_type": "code",
   "execution_count": 1,
   "id": "3706b2ea-0d6d-4aaf-b0af-34e67c1103ac",
   "metadata": {},
   "outputs": [],
   "source": [
    "# QUESTION 1. How can you open a file for writing in Python and write a string to it?\n",
    "# ANSWER 1. \n",
    "with open(\"example.txt\", \"w\") as f:\n",
    "    f.write(\"Hello, this is a test string.\")"
   ]
  },
  {
   "cell_type": "code",
   "execution_count": 2,
   "id": "840d06bb-d556-46f8-9fe7-459b3549a4c6",
   "metadata": {},
   "outputs": [
    {
     "name": "stdout",
     "output_type": "stream",
     "text": [
      "Hello, this is a test string.\n"
     ]
    }
   ],
   "source": [
    "# QUESTION 2.  Write a Python program to read the contents of a file and print each line?\n",
    "# ANSWER 2. \n",
    "with open(\"example.txt\",\"r\") as f:\n",
    "    for line in f:\n",
    "        print(line.strip())"
   ]
  },
  {
   "cell_type": "code",
   "execution_count": 6,
   "id": "76ea2937-ca68-43fb-8beb-9e0f84298725",
   "metadata": {},
   "outputs": [
    {
     "name": "stdout",
     "output_type": "stream",
     "text": [
      "Hello, this is a test string.\n"
     ]
    }
   ],
   "source": [
    "# QUESTION 3. How would you handle a case where the file doesn't exist while trying to open it for reading?\n",
    "# ANSWER 3. \n",
    "try:\n",
    "    with open(\"example.txt\", \"r\") as f:\n",
    "        for line in f:\n",
    "            print(line.strip())\n",
    "except FileNotFoundError:\n",
    "    print(\"Error: The file does not exist.\")"
   ]
  },
  {
   "cell_type": "code",
   "execution_count": 9,
   "id": "dde256cd-d44e-4212-9ddb-4f2a4080e04e",
   "metadata": {},
   "outputs": [
    {
     "ename": "FileNotFoundError",
     "evalue": "[Errno 2] No such file or directory: 'source.txt'",
     "output_type": "error",
     "traceback": [
      "\u001b[31m---------------------------------------------------------------------------\u001b[39m",
      "\u001b[31mFileNotFoundError\u001b[39m                         Traceback (most recent call last)",
      "\u001b[36mCell\u001b[39m\u001b[36m \u001b[39m\u001b[32mIn[9]\u001b[39m\u001b[32m, line 3\u001b[39m\n\u001b[32m      1\u001b[39m \u001b[38;5;66;03m# QUESTION 4. Write a Python script that reads from one file and writes its content to another file?\u001b[39;00m\n\u001b[32m      2\u001b[39m \u001b[38;5;66;03m# ANSWER 4. \u001b[39;00m\n\u001b[32m----> \u001b[39m\u001b[32m3\u001b[39m \u001b[38;5;28;01mwith\u001b[39;00m \u001b[38;5;28;43mopen\u001b[39;49m\u001b[43m(\u001b[49m\u001b[33;43m\"\u001b[39;49m\u001b[33;43msource.txt\u001b[39;49m\u001b[33;43m\"\u001b[39;49m\u001b[43m,\u001b[49m\u001b[43m \u001b[49m\u001b[33;43m\"\u001b[39;49m\u001b[33;43mr\u001b[39;49m\u001b[33;43m\"\u001b[39;49m\u001b[43m)\u001b[49m \u001b[38;5;28;01mas\u001b[39;00m src:       \n\u001b[32m      4\u001b[39m     content = src.read()                   \n\u001b[32m      6\u001b[39m \u001b[38;5;28;01mwith\u001b[39;00m \u001b[38;5;28mopen\u001b[39m(\u001b[33m\"\u001b[39m\u001b[33mdestination.txt\u001b[39m\u001b[33m\"\u001b[39m, \u001b[33m\"\u001b[39m\u001b[33mw\u001b[39m\u001b[33m\"\u001b[39m) \u001b[38;5;28;01mas\u001b[39;00m dest: \n",
      "\u001b[36mFile \u001b[39m\u001b[32m~\\AppData\\Local\\Programs\\Python\\Python313\\Lib\\site-packages\\IPython\\core\\interactiveshell.py:326\u001b[39m, in \u001b[36m_modified_open\u001b[39m\u001b[34m(file, *args, **kwargs)\u001b[39m\n\u001b[32m    319\u001b[39m \u001b[38;5;28;01mif\u001b[39;00m file \u001b[38;5;129;01min\u001b[39;00m {\u001b[32m0\u001b[39m, \u001b[32m1\u001b[39m, \u001b[32m2\u001b[39m}:\n\u001b[32m    320\u001b[39m     \u001b[38;5;28;01mraise\u001b[39;00m \u001b[38;5;167;01mValueError\u001b[39;00m(\n\u001b[32m    321\u001b[39m         \u001b[33mf\u001b[39m\u001b[33m\"\u001b[39m\u001b[33mIPython won\u001b[39m\u001b[33m'\u001b[39m\u001b[33mt let you open fd=\u001b[39m\u001b[38;5;132;01m{\u001b[39;00mfile\u001b[38;5;132;01m}\u001b[39;00m\u001b[33m by default \u001b[39m\u001b[33m\"\u001b[39m\n\u001b[32m    322\u001b[39m         \u001b[33m\"\u001b[39m\u001b[33mas it is likely to crash IPython. If you know what you are doing, \u001b[39m\u001b[33m\"\u001b[39m\n\u001b[32m    323\u001b[39m         \u001b[33m\"\u001b[39m\u001b[33myou can use builtins\u001b[39m\u001b[33m'\u001b[39m\u001b[33m open.\u001b[39m\u001b[33m\"\u001b[39m\n\u001b[32m    324\u001b[39m     )\n\u001b[32m--> \u001b[39m\u001b[32m326\u001b[39m \u001b[38;5;28;01mreturn\u001b[39;00m \u001b[43mio_open\u001b[49m\u001b[43m(\u001b[49m\u001b[43mfile\u001b[49m\u001b[43m,\u001b[49m\u001b[43m \u001b[49m\u001b[43m*\u001b[49m\u001b[43margs\u001b[49m\u001b[43m,\u001b[49m\u001b[43m \u001b[49m\u001b[43m*\u001b[49m\u001b[43m*\u001b[49m\u001b[43mkwargs\u001b[49m\u001b[43m)\u001b[49m\n",
      "\u001b[31mFileNotFoundError\u001b[39m: [Errno 2] No such file or directory: 'source.txt'"
     ]
    }
   ],
   "source": [
    "# QUESTION 4. Write a Python script that reads from one file and writes its content to another file?\n",
    "# ANSWER 4. \n",
    "with open(\"source.txt\", \"r\") as src:       \n",
    "    content = src.read()                   \n",
    "\n",
    "with open(\"destination.txt\", \"w\") as dest: \n",
    "    dest.write(content)  "
   ]
  },
  {
   "cell_type": "code",
   "execution_count": 5,
   "id": "7857facb-d303-4119-9193-74213e3c320b",
   "metadata": {},
   "outputs": [],
   "source": [
    "# QUESTION 5. How would you catch and handle division by zero error in Python?"
   ]
  },
  {
   "cell_type": "code",
   "execution_count": null,
   "id": "27b7583c-1b04-47ca-b79c-6f33305aedbf",
   "metadata": {},
   "outputs": [],
   "source": [
    "# QUESTION 6.Write a Python program that logs an error message to a log file when a division by zero exception occurs?"
   ]
  },
  {
   "cell_type": "code",
   "execution_count": null,
   "id": "d397c8bb-bb83-4955-9cdb-30ea4a6f8780",
   "metadata": {},
   "outputs": [],
   "source": [
    "# QUESTION 7. How do you log information at different levels (INFO, ERROR, WARNING) in Python using the logging module?"
   ]
  },
  {
   "cell_type": "code",
   "execution_count": null,
   "id": "a9f94834-827c-477b-83b5-8736350c1a14",
   "metadata": {},
   "outputs": [],
   "source": [
    "# QUESTION 8. Write a program to handle a file opening error using exception handling"
   ]
  },
  {
   "cell_type": "code",
   "execution_count": null,
   "id": "e996db9b-c1df-4534-b9a4-512e261c3ef4",
   "metadata": {},
   "outputs": [],
   "source": [
    "# QUESTION 9. How can you read a file line by line and store its content in a list in Python?     "
   ]
  },
  {
   "cell_type": "code",
   "execution_count": null,
   "id": "e0bc98a4-fa64-4652-850a-5ca440958b63",
   "metadata": {},
   "outputs": [],
   "source": [
    "# QUESTION 10. How can you append data to an existing file in Python?\n"
   ]
  },
  {
   "cell_type": "code",
   "execution_count": null,
   "id": "eb298823-f5aa-4b44-9c15-280814ec36af",
   "metadata": {},
   "outputs": [],
   "source": [
    "# QUESTION 11. Write a Python program that uses a try-except block to handle an error when attempting to access a \n",
    "# dictionary key that doesn't exist?"
   ]
  },
  {
   "cell_type": "code",
   "execution_count": null,
   "id": "8b1f34cb-4599-4cd1-85b3-43a14781f87d",
   "metadata": {},
   "outputs": [],
   "source": [
    "# QUESTION 12. Write a program that demonstrates using multiple except blocks to handle different types of exceptions?"
   ]
  },
  {
   "cell_type": "code",
   "execution_count": null,
   "id": "12309646-c78d-4f00-ba0e-5998fdf12f4b",
   "metadata": {},
   "outputs": [],
   "source": [
    "# QUESTION 13. How would you check if a file exists before attempting to read it in Python?"
   ]
  },
  {
   "cell_type": "code",
   "execution_count": null,
   "id": "40298e6c-db0a-4192-912b-4c76b8e265a9",
   "metadata": {},
   "outputs": [],
   "source": [
    "# QUESTION 14. Write a program that uses the logging module to log both informational and error messages?"
   ]
  },
  {
   "cell_type": "code",
   "execution_count": null,
   "id": "b1dc998a-c834-4df5-8fb3-7774dc17c4c2",
   "metadata": {},
   "outputs": [],
   "source": [
    "# QUESTION 15. Write a Python program that prints the content of a file and handles the case when the file is empty?"
   ]
  },
  {
   "cell_type": "code",
   "execution_count": null,
   "id": "cb009472-9bcf-48d4-a603-7f2678d148de",
   "metadata": {},
   "outputs": [],
   "source": [
    "# QUESTION 16. Demonstrate how to use memory profiling to check the memory usage of a small program?"
   ]
  },
  {
   "cell_type": "code",
   "execution_count": null,
   "id": "fa49c536-a5e6-4123-b8bf-60650fb4daef",
   "metadata": {},
   "outputs": [],
   "source": [
    "# QUESTION 17. Write a Python program to create and write a list of numbers to a file, one number per line?"
   ]
  },
  {
   "cell_type": "code",
   "execution_count": null,
   "id": "c487fb5a-848c-4128-bbd4-11b40b796ac7",
   "metadata": {},
   "outputs": [],
   "source": [
    "# QUESTION 18. How would you implement a basic logging setup that logs to a file with rotation after 1MB?"
   ]
  },
  {
   "cell_type": "code",
   "execution_count": null,
   "id": "12071b02-aa4f-4214-8cf9-093910169a3e",
   "metadata": {},
   "outputs": [],
   "source": [
    "# QUESTION 19. Write a program that handles both IndexError and KeyError using a try-except block?"
   ]
  },
  {
   "cell_type": "code",
   "execution_count": null,
   "id": "d8652a33-06d5-45d0-a215-badd21661337",
   "metadata": {},
   "outputs": [],
   "source": [
    "# QUESTION 20.  How would you open a file and read its contents using a context manager in PythoN?"
   ]
  },
  {
   "cell_type": "code",
   "execution_count": null,
   "id": "98ec4594-6d9b-422d-8322-6e7afd505f6a",
   "metadata": {},
   "outputs": [],
   "source": [
    "# QUESTION 21. Write a Python program that reads a file and prints the number of occurrences of a specific word?"
   ]
  },
  {
   "cell_type": "code",
   "execution_count": null,
   "id": "7b307e17-850a-40b0-ace8-1355a589dd33",
   "metadata": {},
   "outputs": [],
   "source": [
    "# QUESTION 22. How can you check if a file is empty before attempting to read its contents?"
   ]
  },
  {
   "cell_type": "code",
   "execution_count": null,
   "id": "464e82e7-8b4f-4db2-b624-3a7b84c7edc8",
   "metadata": {},
   "outputs": [],
   "source": [
    "# QUESTION 23. Write a Python program that writes to a log file when an error occurs during file handling.?"
   ]
  },
  {
   "cell_type": "code",
   "execution_count": null,
   "id": "1613309c-efc9-488a-8186-a7b2a44afc5b",
   "metadata": {},
   "outputs": [],
   "source": []
  }
 ],
 "metadata": {
  "kernelspec": {
   "display_name": "Python 3 (ipykernel)",
   "language": "python",
   "name": "python3"
  },
  "language_info": {
   "codemirror_mode": {
    "name": "ipython",
    "version": 3
   },
   "file_extension": ".py",
   "mimetype": "text/x-python",
   "name": "python",
   "nbconvert_exporter": "python",
   "pygments_lexer": "ipython3",
   "version": "3.13.3"
  }
 },
 "nbformat": 4,
 "nbformat_minor": 5
}
